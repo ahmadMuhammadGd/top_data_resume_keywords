{
 "cells": [
  {
   "cell_type": "code",
   "execution_count": 1,
   "metadata": {},
   "outputs": [],
   "source": [
    "import os\n",
    "from src.Transformation.common.kw_extractors import YAKEKeywordExtractor\n",
    "from src.Transformation.common.text_clustering import LazyFuzzyClassifier\n",
    "from src.Transformation.common.spark_udfs import create_keyword_extractor_udf, create_clean_country_udf, create_text_classefier_udf\n",
    "from global_variables import LANDING_DIR, LUKES_DATASET_NAME, CLEAN_LOCATION_DATASET_NAME\n",
    "\n",
    "gsearch_file_path = os.path.join(LANDING_DIR, LUKES_DATASET_NAME)\n",
    "countries_file_path = os.path.join(LANDING_DIR, CLEAN_LOCATION_DATASET_NAME)\n",
    "\n",
    "txt_classefier = LazyFuzzyClassifier()\n",
    "kw_extractor = YAKEKeywordExtractor()\n",
    "\n",
    "import pandas as pd\n",
    "countries_df = pd.read_csv(countries_file_path)\n",
    "\n",
    "\n",
    "iso2 = countries_df[\"iso2\"].dropna().astype(str).tolist()\n",
    "iso3 = countries_df[\"iso3\"].dropna().astype(str).tolist()\n",
    "country_names = countries_df[\"country\"].dropna().astype(str).tolist()\n",
    "\n",
    "del countries_df"
   ]
  },
  {
   "cell_type": "code",
   "execution_count": 2,
   "metadata": {},
   "outputs": [],
   "source": [
    "from pyspark.sql import SparkSession\n",
    "from pyspark.sql.functions import collect_list, col, flatten, size, explode, desc, concat, lit"
   ]
  },
  {
   "cell_type": "code",
   "execution_count": 3,
   "metadata": {},
   "outputs": [
    {
     "name": "stderr",
     "output_type": "stream",
     "text": [
      "24/12/02 21:05:19 WARN Utils: Your hostname, ahmad-HP-ZBook-17 resolves to a loopback address: 127.0.1.1; using 192.168.1.72 instead (on interface wlo1)\n",
      "24/12/02 21:05:19 WARN Utils: Set SPARK_LOCAL_IP if you need to bind to another address\n",
      "Setting default log level to \"WARN\".\n",
      "To adjust logging level use sc.setLogLevel(newLevel). For SparkR, use setLogLevel(newLevel).\n",
      "24/12/02 21:05:25 WARN NativeCodeLoader: Unable to load native-hadoop library for your platform... using builtin-java classes where applicable\n"
     ]
    }
   ],
   "source": [
    "spark = SparkSession.builder.appName(\"kw_extractor\").getOrCreate()"
   ]
  },
  {
   "cell_type": "code",
   "execution_count": 4,
   "metadata": {},
   "outputs": [],
   "source": [
    "kw_extractor_bc         = spark.sparkContext.broadcast(kw_extractor)\n",
    "txt_classefier_bc       = spark.sparkContext.broadcast(txt_classefier)\n",
    "iso2_bc                 = spark.sparkContext.broadcast(iso2)\n",
    "iso3_bc                 = spark.sparkContext.broadcast(iso3)\n",
    "country_names_bc        = spark.sparkContext.broadcast(country_names)\n",
    "candidate_lables_bc     = spark.sparkContext.broadcast([\"Data Engineer\", \"Data Analyst\", \"Business Analyst\", \"BI Developer\", \"Data Scientist\"])\n",
    "\n",
    "keyword_extractor_udf   = create_keyword_extractor_udf(kw_extractor_bc)    \n",
    "text_classefier_udf     = create_text_classefier_udf(txt_classefier_bc, candidate_lables_bc)\n",
    "clean_country_udf       = create_clean_country_udf(iso2_list_bc=iso2_bc, iso3_list_bc=iso3_bc, country_names_list_bc=country_names_bc)"
   ]
  },
  {
   "cell_type": "code",
   "execution_count": 5,
   "metadata": {},
   "outputs": [
    {
     "name": "stderr",
     "output_type": "stream",
     "text": [
      "                                                                                \r"
     ]
    }
   ],
   "source": [
    "df = spark.read.option(\"header\",True).csv(gsearch_file_path)"
   ]
  },
  {
   "cell_type": "code",
   "execution_count": 6,
   "metadata": {},
   "outputs": [
    {
     "name": "stderr",
     "output_type": "stream",
     "text": [
      "Applied processor reduces input query to empty string, all comparisons will have score 0. [Query: ' ']\n",
      "Applied processor reduces input query to empty string, all comparisons will have score 0. [Query: ' ']\n",
      "Applied processor reduces input query to empty string, all comparisons will have score 0. [Query: ' ']\n",
      "[Stage 3:>                                                          (0 + 1) / 1]\r"
     ]
    },
    {
     "name": "stdout",
     "output_type": "stream",
     "text": [
      "+----------------+------------------+--------------------+\n",
      "|     clean_title|           country|            keywords|\n",
      "+----------------+------------------+--------------------+\n",
      "|   Data Engineer|          Anywhere|[{Engineering Dat...|\n",
      "|Business Analyst|             Italy|[{effective commu...|\n",
      "|    BI Developer|     United states|[{Job Title, 0.01...|\n",
      "|    Data Analyst|           Iceland|[{data transforma...|\n",
      "|    BI Developer|           Burundi|[{Microsoft appli...|\n",
      "|Business Analyst|           Austria|[{members, 0.1583...|\n",
      "|    Data Analyst|           Andorra|[{paid time, 0.09...|\n",
      "|    Data Analyst|     United states|[{Overview, 0.044...|\n",
      "|    Data Analyst|            Canada|[{release the ful...|\n",
      "|  Data Scientist|           Andorra|[{Paid Time, 0.03...|\n",
      "|   Data Engineer|              Peru|[{Critical Illnes...|\n",
      "|Business Analyst|        Montserrat|[{supporting or w...|\n",
      "|Business Analyst|Dominican republic|[{segments includ...|\n",
      "|    BI Developer|        Guadeloupe|[{Excel, 0.044911...|\n",
      "|    BI Developer|           Iceland|[{proceeding, 0.0...|\n",
      "|  Data Scientist|           Iceland|[{accreditation s...|\n",
      "|   Data Engineer|           Austria|[{color, 0.044911...|\n",
      "|Business Analyst|           Andorra|[{ensure data col...|\n",
      "|   Data Engineer|         Argentina|[{LocationRogers,...|\n",
      "|   Data Engineer|           Belarus|[{excited to meet...|\n",
      "+----------------+------------------+--------------------+\n",
      "only showing top 20 rows\n",
      "\n"
     ]
    },
    {
     "name": "stderr",
     "output_type": "stream",
     "text": [
      "                                                                                \r"
     ]
    }
   ],
   "source": [
    "enriched = (df.select(col(\"title\"), col(\"location\"), col(\"description\")).filter(\n",
    "        col(\"location\").isNotNull() & col(\"description\").isNotNull()\n",
    "    )\n",
    "    .limit(10000)\n",
    "    .withColumn(\"country\", clean_country_udf(col(\"location\")))\n",
    "    .filter(col(\"country\").isNotNull())\n",
    "    .withColumn(\"kw_arr\", keyword_extractor_udf(col(\"description\")))\n",
    "    .filter(size(col(\"kw_arr\")) > 0)\n",
    "    .withColumn(\"clean_title\", text_classefier_udf(col(\"title\")))\n",
    "    .filter(col(\"clean_title\").isNotNull())\n",
    "    .select(col(\"country\"), col(\"clean_title\"), col(\"kw_arr\"))\n",
    "    .groupBy(col(\"clean_title\"), col(\"country\"))\n",
    "    .agg(collect_list(col(\"kw_arr\")).alias(\"kw_arr\"))\n",
    "    .withColumn(\"keywords\", flatten(col(\"kw_arr\")))\n",
    "    .drop(\"kw_arr\")\n",
    ")\n",
    "\n",
    "enriched.show(truncate=True)"
   ]
  },
  {
   "cell_type": "code",
   "execution_count": 7,
   "metadata": {},
   "outputs": [],
   "source": [
    "from pyspark.sql.functions import col, explode, sum, desc, count\n",
    "from pyspark.sql.types import DoubleType\n",
    "\n",
    "exploded = (\n",
    "    enriched\n",
    "    # .filter(col(\"clean_title\").like(\"%ngineer%\"))\n",
    "    .withColumn(\"exploded\", explode(\"keywords\"))\n",
    "    .select(\n",
    "        col(\"country\"), \n",
    "        col(\"clean_title\"),\n",
    "        col(\"exploded.keyword\").alias(\"keyword\"),\n",
    "        col(\"exploded.weight\").cast(DoubleType()).alias(\"weight\")\n",
    "    )\n",
    "    .groupBy(col(\"country\"), col(\"clean_title\"), col(\"keyword\"))\n",
    "    .agg(\n",
    "        sum(\"weight\").alias(\"total_weight\"),\n",
    "        count(\"keyword\").alias(\"keyword_cnt\")\n",
    "    )\n",
    "    .withColumn(\"score\", col(\"total_weight\") * col(\"keyword_cnt\")) \n",
    "    .orderBy(desc(\"score\"))\n",
    ")\n"
   ]
  },
  {
   "cell_type": "code",
   "execution_count": 9,
   "metadata": {},
   "outputs": [
    {
     "ename": "Py4JError",
     "evalue": "An error occurred while calling o195.and. Trace:\npy4j.Py4JException: Method and([class java.lang.String]) does not exist\n\tat py4j.reflection.ReflectionEngine.getMethod(ReflectionEngine.java:321)\n\tat py4j.reflection.ReflectionEngine.getMethod(ReflectionEngine.java:329)\n\tat py4j.Gateway.invoke(Gateway.java:274)\n\tat py4j.commands.AbstractCommand.invokeMethod(AbstractCommand.java:132)\n\tat py4j.commands.CallCommand.execute(CallCommand.java:79)\n\tat py4j.ClientServerConnection.waitForCommands(ClientServerConnection.java:182)\n\tat py4j.ClientServerConnection.run(ClientServerConnection.java:106)\n\tat java.base/java.lang.Thread.run(Thread.java:829)\n\n",
     "output_type": "error",
     "traceback": [
      "\u001b[0;31m---------------------------------------------------------------------------\u001b[0m",
      "\u001b[0;31mPy4JError\u001b[0m                                 Traceback (most recent call last)",
      "Cell \u001b[0;32mIn[9], line 12\u001b[0m\n\u001b[1;32m      6\u001b[0m \u001b[38;5;66;03m# Create a PrettyTable object\u001b[39;00m\n\u001b[1;32m      7\u001b[0m table \u001b[38;5;241m=\u001b[39m PrettyTable()\n\u001b[1;32m      9\u001b[0m df_filtered \u001b[38;5;241m=\u001b[39m (\n\u001b[1;32m     10\u001b[0m     exploded\n\u001b[1;32m     11\u001b[0m     \u001b[38;5;241m.\u001b[39mfilter(col(\u001b[38;5;124m\"\u001b[39m\u001b[38;5;124mclean_title\u001b[39m\u001b[38;5;124m\"\u001b[39m) \u001b[38;5;241m==\u001b[39m \u001b[38;5;124m\"\u001b[39m\u001b[38;5;124mData Engineer\u001b[39m\u001b[38;5;124m\"\u001b[39m)\n\u001b[0;32m---> 12\u001b[0m     \u001b[38;5;241m.\u001b[39mfilter(col(\u001b[38;5;124m\"\u001b[39m\u001b[38;5;124mcountry\u001b[39m\u001b[38;5;124m\"\u001b[39m) \u001b[38;5;241m==\u001b[39m \u001b[38;5;124;43m\"\u001b[39;49m\u001b[38;5;124;43mUnited states\u001b[39;49m\u001b[38;5;124;43m\"\u001b[39;49m\u001b[43m \u001b[49m\u001b[38;5;241;43m&\u001b[39;49m\u001b[43m \u001b[49m\u001b[43mcol\u001b[49m\u001b[43m(\u001b[49m\u001b[38;5;124;43m\"\u001b[39;49m\u001b[38;5;124;43mcountry\u001b[39;49m\u001b[38;5;124;43m\"\u001b[39;49m\u001b[43m)\u001b[49m \u001b[38;5;241m==\u001b[39m \u001b[38;5;124m\"\u001b[39m\u001b[38;5;124mAnywhere\u001b[39m\u001b[38;5;124m\"\u001b[39m)\n\u001b[1;32m     13\u001b[0m     \u001b[38;5;241m.\u001b[39mlimit(\u001b[38;5;241m100\u001b[39m)\n\u001b[1;32m     14\u001b[0m )\n\u001b[1;32m     16\u001b[0m \u001b[38;5;66;03m# Set the columns\u001b[39;00m\n\u001b[1;32m     17\u001b[0m table\u001b[38;5;241m.\u001b[39mfield_names \u001b[38;5;241m=\u001b[39m exploded\u001b[38;5;241m.\u001b[39mcolumns\n",
      "File \u001b[0;32m~/repo/Luke's_dataset_analysis/venv/lib/python3.10/site-packages/pyspark/sql/column.py:163\u001b[0m, in \u001b[0;36m_bin_op.<locals>._\u001b[0;34m(self, other)\u001b[0m\n\u001b[1;32m    158\u001b[0m \u001b[38;5;28;01mdef\u001b[39;00m \u001b[38;5;21m_\u001b[39m(\n\u001b[1;32m    159\u001b[0m     \u001b[38;5;28mself\u001b[39m: \u001b[38;5;124m\"\u001b[39m\u001b[38;5;124mColumn\u001b[39m\u001b[38;5;124m\"\u001b[39m,\n\u001b[1;32m    160\u001b[0m     other: Union[\u001b[38;5;124m\"\u001b[39m\u001b[38;5;124mColumn\u001b[39m\u001b[38;5;124m\"\u001b[39m, \u001b[38;5;124m\"\u001b[39m\u001b[38;5;124mLiteralType\u001b[39m\u001b[38;5;124m\"\u001b[39m, \u001b[38;5;124m\"\u001b[39m\u001b[38;5;124mDecimalLiteral\u001b[39m\u001b[38;5;124m\"\u001b[39m, \u001b[38;5;124m\"\u001b[39m\u001b[38;5;124mDateTimeLiteral\u001b[39m\u001b[38;5;124m\"\u001b[39m],\n\u001b[1;32m    161\u001b[0m ) \u001b[38;5;241m-\u001b[39m\u001b[38;5;241m>\u001b[39m \u001b[38;5;124m\"\u001b[39m\u001b[38;5;124mColumn\u001b[39m\u001b[38;5;124m\"\u001b[39m:\n\u001b[1;32m    162\u001b[0m     jc \u001b[38;5;241m=\u001b[39m other\u001b[38;5;241m.\u001b[39m_jc \u001b[38;5;28;01mif\u001b[39;00m \u001b[38;5;28misinstance\u001b[39m(other, Column) \u001b[38;5;28;01melse\u001b[39;00m other\n\u001b[0;32m--> 163\u001b[0m     njc \u001b[38;5;241m=\u001b[39m \u001b[38;5;28;43mgetattr\u001b[39;49m\u001b[43m(\u001b[49m\u001b[38;5;28;43mself\u001b[39;49m\u001b[38;5;241;43m.\u001b[39;49m\u001b[43m_jc\u001b[49m\u001b[43m,\u001b[49m\u001b[43m \u001b[49m\u001b[43mname\u001b[49m\u001b[43m)\u001b[49m\u001b[43m(\u001b[49m\u001b[43mjc\u001b[49m\u001b[43m)\u001b[49m\n\u001b[1;32m    164\u001b[0m     \u001b[38;5;28;01mreturn\u001b[39;00m Column(njc)\n",
      "File \u001b[0;32m~/repo/Luke's_dataset_analysis/venv/lib/python3.10/site-packages/py4j/java_gateway.py:1322\u001b[0m, in \u001b[0;36mJavaMember.__call__\u001b[0;34m(self, *args)\u001b[0m\n\u001b[1;32m   1316\u001b[0m command \u001b[38;5;241m=\u001b[39m proto\u001b[38;5;241m.\u001b[39mCALL_COMMAND_NAME \u001b[38;5;241m+\u001b[39m\\\n\u001b[1;32m   1317\u001b[0m     \u001b[38;5;28mself\u001b[39m\u001b[38;5;241m.\u001b[39mcommand_header \u001b[38;5;241m+\u001b[39m\\\n\u001b[1;32m   1318\u001b[0m     args_command \u001b[38;5;241m+\u001b[39m\\\n\u001b[1;32m   1319\u001b[0m     proto\u001b[38;5;241m.\u001b[39mEND_COMMAND_PART\n\u001b[1;32m   1321\u001b[0m answer \u001b[38;5;241m=\u001b[39m \u001b[38;5;28mself\u001b[39m\u001b[38;5;241m.\u001b[39mgateway_client\u001b[38;5;241m.\u001b[39msend_command(command)\n\u001b[0;32m-> 1322\u001b[0m return_value \u001b[38;5;241m=\u001b[39m \u001b[43mget_return_value\u001b[49m\u001b[43m(\u001b[49m\n\u001b[1;32m   1323\u001b[0m \u001b[43m    \u001b[49m\u001b[43manswer\u001b[49m\u001b[43m,\u001b[49m\u001b[43m \u001b[49m\u001b[38;5;28;43mself\u001b[39;49m\u001b[38;5;241;43m.\u001b[39;49m\u001b[43mgateway_client\u001b[49m\u001b[43m,\u001b[49m\u001b[43m \u001b[49m\u001b[38;5;28;43mself\u001b[39;49m\u001b[38;5;241;43m.\u001b[39;49m\u001b[43mtarget_id\u001b[49m\u001b[43m,\u001b[49m\u001b[43m \u001b[49m\u001b[38;5;28;43mself\u001b[39;49m\u001b[38;5;241;43m.\u001b[39;49m\u001b[43mname\u001b[49m\u001b[43m)\u001b[49m\n\u001b[1;32m   1325\u001b[0m \u001b[38;5;28;01mfor\u001b[39;00m temp_arg \u001b[38;5;129;01min\u001b[39;00m temp_args:\n\u001b[1;32m   1326\u001b[0m     \u001b[38;5;28;01mif\u001b[39;00m \u001b[38;5;28mhasattr\u001b[39m(temp_arg, \u001b[38;5;124m\"\u001b[39m\u001b[38;5;124m_detach\u001b[39m\u001b[38;5;124m\"\u001b[39m):\n",
      "File \u001b[0;32m~/repo/Luke's_dataset_analysis/venv/lib/python3.10/site-packages/pyspark/errors/exceptions/captured.py:179\u001b[0m, in \u001b[0;36mcapture_sql_exception.<locals>.deco\u001b[0;34m(*a, **kw)\u001b[0m\n\u001b[1;32m    177\u001b[0m \u001b[38;5;28;01mdef\u001b[39;00m \u001b[38;5;21mdeco\u001b[39m(\u001b[38;5;241m*\u001b[39ma: Any, \u001b[38;5;241m*\u001b[39m\u001b[38;5;241m*\u001b[39mkw: Any) \u001b[38;5;241m-\u001b[39m\u001b[38;5;241m>\u001b[39m Any:\n\u001b[1;32m    178\u001b[0m     \u001b[38;5;28;01mtry\u001b[39;00m:\n\u001b[0;32m--> 179\u001b[0m         \u001b[38;5;28;01mreturn\u001b[39;00m \u001b[43mf\u001b[49m\u001b[43m(\u001b[49m\u001b[38;5;241;43m*\u001b[39;49m\u001b[43ma\u001b[49m\u001b[43m,\u001b[49m\u001b[43m \u001b[49m\u001b[38;5;241;43m*\u001b[39;49m\u001b[38;5;241;43m*\u001b[39;49m\u001b[43mkw\u001b[49m\u001b[43m)\u001b[49m\n\u001b[1;32m    180\u001b[0m     \u001b[38;5;28;01mexcept\u001b[39;00m Py4JJavaError \u001b[38;5;28;01mas\u001b[39;00m e:\n\u001b[1;32m    181\u001b[0m         converted \u001b[38;5;241m=\u001b[39m convert_exception(e\u001b[38;5;241m.\u001b[39mjava_exception)\n",
      "File \u001b[0;32m~/repo/Luke's_dataset_analysis/venv/lib/python3.10/site-packages/py4j/protocol.py:330\u001b[0m, in \u001b[0;36mget_return_value\u001b[0;34m(answer, gateway_client, target_id, name)\u001b[0m\n\u001b[1;32m    326\u001b[0m         \u001b[38;5;28;01mraise\u001b[39;00m Py4JJavaError(\n\u001b[1;32m    327\u001b[0m             \u001b[38;5;124m\"\u001b[39m\u001b[38;5;124mAn error occurred while calling \u001b[39m\u001b[38;5;132;01m{0}\u001b[39;00m\u001b[38;5;132;01m{1}\u001b[39;00m\u001b[38;5;132;01m{2}\u001b[39;00m\u001b[38;5;124m.\u001b[39m\u001b[38;5;130;01m\\n\u001b[39;00m\u001b[38;5;124m\"\u001b[39m\u001b[38;5;241m.\u001b[39m\n\u001b[1;32m    328\u001b[0m             \u001b[38;5;28mformat\u001b[39m(target_id, \u001b[38;5;124m\"\u001b[39m\u001b[38;5;124m.\u001b[39m\u001b[38;5;124m\"\u001b[39m, name), value)\n\u001b[1;32m    329\u001b[0m     \u001b[38;5;28;01melse\u001b[39;00m:\n\u001b[0;32m--> 330\u001b[0m         \u001b[38;5;28;01mraise\u001b[39;00m Py4JError(\n\u001b[1;32m    331\u001b[0m             \u001b[38;5;124m\"\u001b[39m\u001b[38;5;124mAn error occurred while calling \u001b[39m\u001b[38;5;132;01m{0}\u001b[39;00m\u001b[38;5;132;01m{1}\u001b[39;00m\u001b[38;5;132;01m{2}\u001b[39;00m\u001b[38;5;124m. Trace:\u001b[39m\u001b[38;5;130;01m\\n\u001b[39;00m\u001b[38;5;132;01m{3}\u001b[39;00m\u001b[38;5;130;01m\\n\u001b[39;00m\u001b[38;5;124m\"\u001b[39m\u001b[38;5;241m.\u001b[39m\n\u001b[1;32m    332\u001b[0m             \u001b[38;5;28mformat\u001b[39m(target_id, \u001b[38;5;124m\"\u001b[39m\u001b[38;5;124m.\u001b[39m\u001b[38;5;124m\"\u001b[39m, name, value))\n\u001b[1;32m    333\u001b[0m \u001b[38;5;28;01melse\u001b[39;00m:\n\u001b[1;32m    334\u001b[0m     \u001b[38;5;28;01mraise\u001b[39;00m Py4JError(\n\u001b[1;32m    335\u001b[0m         \u001b[38;5;124m\"\u001b[39m\u001b[38;5;124mAn error occurred while calling \u001b[39m\u001b[38;5;132;01m{0}\u001b[39;00m\u001b[38;5;132;01m{1}\u001b[39;00m\u001b[38;5;132;01m{2}\u001b[39;00m\u001b[38;5;124m\"\u001b[39m\u001b[38;5;241m.\u001b[39m\n\u001b[1;32m    336\u001b[0m         \u001b[38;5;28mformat\u001b[39m(target_id, \u001b[38;5;124m\"\u001b[39m\u001b[38;5;124m.\u001b[39m\u001b[38;5;124m\"\u001b[39m, name))\n",
      "\u001b[0;31mPy4JError\u001b[0m: An error occurred while calling o195.and. Trace:\npy4j.Py4JException: Method and([class java.lang.String]) does not exist\n\tat py4j.reflection.ReflectionEngine.getMethod(ReflectionEngine.java:321)\n\tat py4j.reflection.ReflectionEngine.getMethod(ReflectionEngine.java:329)\n\tat py4j.Gateway.invoke(Gateway.java:274)\n\tat py4j.commands.AbstractCommand.invokeMethod(AbstractCommand.java:132)\n\tat py4j.commands.CallCommand.execute(CallCommand.java:79)\n\tat py4j.ClientServerConnection.waitForCommands(ClientServerConnection.java:182)\n\tat py4j.ClientServerConnection.run(ClientServerConnection.java:106)\n\tat java.base/java.lang.Thread.run(Thread.java:829)\n\n"
     ]
    }
   ],
   "source": [
    "# Install prettytable\n",
    "# ! pip install prettytable\n",
    "\n",
    "from prettytable import PrettyTable\n",
    "\n",
    "# Create a PrettyTable object\n",
    "table = PrettyTable()\n",
    "\n",
    "df_filtered = (\n",
    "    exploded\n",
    "    .filter(col(\"clean_title\") == \"Data Engineer\")\n",
    "    .filter(col(\"country\") == \"United states\" & col(\"country\") == \"Anywhere\")\n",
    "    .limit(100)\n",
    ")\n",
    "\n",
    "# Set the columns\n",
    "table.field_names = exploded.columns\n",
    "\n",
    "# Add rows to the table\n",
    "for row in exploded.collect():\n",
    "    table.add_row(row)\n",
    "\n",
    "# Print the table in a pretty format\n",
    "print(table)"
   ]
  }
 ],
 "metadata": {
  "kernelspec": {
   "display_name": "venv",
   "language": "python",
   "name": "python3"
  },
  "language_info": {
   "codemirror_mode": {
    "name": "ipython",
    "version": 3
   },
   "file_extension": ".py",
   "mimetype": "text/x-python",
   "name": "python",
   "nbconvert_exporter": "python",
   "pygments_lexer": "ipython3",
   "version": "3.10.12"
  }
 },
 "nbformat": 4,
 "nbformat_minor": 2
}
